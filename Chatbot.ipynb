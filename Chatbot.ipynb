{
 "cells": [
  {
   "cell_type": "code",
   "execution_count": 1,
   "id": "ab50c4fa-0fff-404e-99a0-2db58c7fe059",
   "metadata": {},
   "outputs": [
    {
     "name": "stderr",
     "output_type": "stream",
     "text": [
      "C:\\Users\\HamidReza\\anaconda3\\envs\\chat_bot\\Lib\\site-packages\\tqdm\\auto.py:21: TqdmWarning: IProgress not found. Please update jupyter and ipywidgets. See https://ipywidgets.readthedocs.io/en/stable/user_install.html\n",
      "  from .autonotebook import tqdm as notebook_tqdm\n"
     ]
    }
   ],
   "source": [
    "import pandas as pd\n",
    "import torch\n",
    "from sentence_transformers.util import semantic_search\n",
    "from sentence_transformers import SentenceTransformer\n",
    "import numpy as np"
   ]
  },
  {
   "cell_type": "code",
   "execution_count": 2,
   "id": "56756ce9-b3af-4362-87a1-2489de6edda7",
   "metadata": {},
   "outputs": [],
   "source": [
    "def model_generator():\n",
    "    model_id = \"sentence-transformers/all-MiniLM-L6-v2\"\n",
    "    return SentenceTransformer(model_id)"
   ]
  },
  {
   "cell_type": "code",
   "execution_count": 3,
   "id": "ec19097e-9006-4aca-8dbc-a4cb4580859d",
   "metadata": {},
   "outputs": [],
   "source": [
    "def dataset_generator(text, csv_write=True):\n",
    "    tables = [pd.read_html(text)[i] for i in range(len(pd.read_html(text)))]\n",
    "    table = pd.concat(tables, ignore_index=True, sort=False)\n",
    "    questions = list(table['Question'].values)\n",
    "    answers = list(table['Answer'].values)\n",
    "    dataset = list(list(i) for i in zip(questions, answers))\n",
    "    questions = [dataset[i][0] for i in range(len(dataset))]\n",
    "    answers = [dataset[i][1] for i in range(len(dataset))]\n",
    "    if csv_write == True:\n",
    "        table.columns=[\"0\", \"1\"]\n",
    "        table.to_csv('dataset_english.csv', index=False, columns=['0', '1'])\n",
    "\n",
    "    return questions, answers"
   ]
  },
  {
   "cell_type": "code",
   "execution_count": 4,
   "id": "571ee53f-09f1-4713-be99-5c9fd43467e4",
   "metadata": {},
   "outputs": [],
   "source": [
    "def embedding_func(questions, model, csv_write=True):\n",
    "    output = model.encode(questions)\n",
    "    embeddings = pd.DataFrame(output)\n",
    "    if csv_write == True:\n",
    "        embeddings.to_csv(\"embeddings_english.csv\", index=False)\n",
    "    dataset_embeddings = torch.from_numpy(embeddings.to_numpy()).to(torch.float)\n",
    "    print(f\"The Length of the Dataset is: {len(dataset_embeddings)}\")\n",
    "    return dataset_embeddings\n",
    "    "
   ]
  },
  {
   "cell_type": "code",
   "execution_count": 5,
   "id": "d0bf07e8-d2d2-49b7-a9f1-fb0fd3d42540",
   "metadata": {},
   "outputs": [],
   "source": [
    "model = model_generator()"
   ]
  },
  {
   "cell_type": "code",
   "execution_count": 6,
   "id": "d5681780-3aeb-4498-83f7-9a0e2f89e8cd",
   "metadata": {},
   "outputs": [],
   "source": [
    "table_file_name = 'dataset_tables_english.txt'"
   ]
  },
  {
   "cell_type": "code",
   "execution_count": 7,
   "id": "0d19646b-e13e-4387-9492-3a8917485c14",
   "metadata": {},
   "outputs": [],
   "source": [
    "questions, answers = dataset_generator(table_file_name)"
   ]
  },
  {
   "cell_type": "code",
   "execution_count": 8,
   "id": "5eaa75f0-75aa-4201-a23f-e5dd97a82184",
   "metadata": {},
   "outputs": [
    {
     "name": "stdout",
     "output_type": "stream",
     "text": [
      "The Length of the Dataset is: 153\n"
     ]
    }
   ],
   "source": [
    "dataset_embeddings = embedding_func(questions, model)"
   ]
  },
  {
   "cell_type": "code",
   "execution_count": 11,
   "id": "9252335e-131d-4800-8e65-f9e2c11c5e0a",
   "metadata": {},
   "outputs": [],
   "source": [
    "def answer_to_question(question, answers):\n",
    "  output = model.encode(question)\n",
    "  output_embeddings = torch.FloatTensor(output)\n",
    "  hits = semantic_search(output_embeddings, dataset_embeddings, top_k=4)\n",
    "  my_answers = []\n",
    "  pre_score = hits[0][0]['score'] + 0.001\n",
    "  \n",
    "  for answer_data in hits[0]:\n",
    "    answer_score = answer_data['score']\n",
    "    \n",
    "    if (answer_score != pre_score) and (answer_score > 0.45) and ((pre_score - answer_score < 0.05) or ((answer_score > 0.7) and ((pre_score - answer_score < 0.04)))):\n",
    "        my_answers.append(answers[answer_data['corpus_id']])\n",
    "        pre_score = answer_score\n",
    "    else:\n",
    "        break\n",
    "\n",
    "  output = \"\"\n",
    "  if len(my_answers) > 0 :\n",
    "    for answer in my_answers:\n",
    "      output += answer + \" \"\n",
    "    print(output)\n",
    "    print('\\n')\n",
    "    print(hits)\n",
    "  else: print(\"I don't know the answer. please modify your question.\")\n"
   ]
  },
  {
   "cell_type": "code",
   "execution_count": 12,
   "id": "c49bf4dc-4dc0-49d7-99a8-12a5cf364b76",
   "metadata": {},
   "outputs": [
    {
     "name": "stdin",
     "output_type": "stream",
     "text": [
      "Please ask your question:  what should I do before purchasing td-lte modem?\n"
     ]
    },
    {
     "name": "stdout",
     "output_type": "stream",
     "text": [
      "Before purchasing any TD-LTE modem, customers should check Irancell network coverage in the intended area using the \"coverage map\" available on the Irancell website. Before purchasing a mobile modem, the Customer should check Irancell network coverage in the intended area using the \"coverage map\" available on the Irancell website. \n",
      "\n",
      "\n",
      "[[{'corpus_id': 89, 'score': 0.7922075390815735}, {'corpus_id': 123, 'score': 0.7424969673156738}, {'corpus_id': 108, 'score': 0.6250380873680115}, {'corpus_id': 139, 'score': 0.6050375699996948}]]\n"
     ]
    }
   ],
   "source": [
    "question = [input(\"Please ask your question: \")]\n",
    "answer_to_question(question, answers)"
   ]
  },
  {
   "cell_type": "code",
   "execution_count": 18,
   "id": "b2a1afac-340c-4cf0-a86e-77aa8e926c0c",
   "metadata": {},
   "outputs": [
    {
     "data": {
      "text/plain": [
       "'Customers can request a refund by contacting Irancell Call Center, either by dialing 707 from Irancell lines or 09377070000 from other lines, or by raising their request through online chat with Call Center agents.'"
      ]
     },
     "execution_count": 18,
     "metadata": {},
     "output_type": "execute_result"
    }
   ],
   "source": [
    "answers[108]"
   ]
  },
  {
   "cell_type": "code",
   "execution_count": null,
   "id": "f5273779-9e13-4afb-b826-64095c75cf82",
   "metadata": {},
   "outputs": [],
   "source": []
  },
  {
   "cell_type": "code",
   "execution_count": null,
   "id": "52659d98-2688-453c-86b9-f7c3a5679d92",
   "metadata": {},
   "outputs": [],
   "source": []
  }
 ],
 "metadata": {
  "kernelspec": {
   "display_name": "Python 3 (ipykernel)",
   "language": "python",
   "name": "python3"
  },
  "language_info": {
   "codemirror_mode": {
    "name": "ipython",
    "version": 3
   },
   "file_extension": ".py",
   "mimetype": "text/x-python",
   "name": "python",
   "nbconvert_exporter": "python",
   "pygments_lexer": "ipython3",
   "version": "3.11.5"
  }
 },
 "nbformat": 4,
 "nbformat_minor": 5
}
