{
 "cells": [
  {
   "cell_type": "code",
   "execution_count": 1,
   "id": "e40b3cd2-6d95-4885-bda6-f7658873a619",
   "metadata": {},
   "outputs": [
    {
     "name": "stderr",
     "output_type": "stream",
     "text": [
      "C:\\Users\\HamidReza\\anaconda3\\envs\\chat_bot\\Lib\\site-packages\\tqdm\\auto.py:21: TqdmWarning: IProgress not found. Please update jupyter and ipywidgets. See https://ipywidgets.readthedocs.io/en/stable/user_install.html\n",
      "  from .autonotebook import tqdm as notebook_tqdm\n"
     ]
    }
   ],
   "source": [
    "import pandas as pd\n",
    "import torch\n",
    "from sentence_transformers.util import semantic_search\n",
    "from sentence_transformers import SentenceTransformer\n",
    "import numpy as np"
   ]
  },
  {
   "cell_type": "code",
   "execution_count": 26,
   "id": "3be712a5-0fdd-4ab0-9e95-d412d2d74793",
   "metadata": {},
   "outputs": [],
   "source": [
    "def answer_to_question(question):\n",
    "    answers = pd.read_csv('dataset.csv')['1'].values\n",
    "    model_id = \"sentence-transformers/all-MiniLM-L6-v2\"\n",
    "    model = SentenceTransformer(model_id)\n",
    "    embeddings = pd.read_csv('embeddings.csv')\n",
    "    dataset_embeddings = torch.from_numpy(embeddings.to_numpy()).to(torch.float)\n",
    "    output = model.encode(question)\n",
    "    output_embeddings = torch.FloatTensor(output)\n",
    "    hits = semantic_search(output_embeddings, dataset_embeddings, top_k=4)\n",
    "    my_answers = []\n",
    "    pre_score = hits[0][0]['score'] + 0.001\n",
    "  \n",
    "    for answer_data in hits[0]:\n",
    "        answer_score = answer_data['score']\n",
    "    \n",
    "        if (answer_score != pre_score) and (answer_score > 0.45) and (pre_score - answer_score < 0.05):\n",
    "            my_answers.append(answers[answer_data['corpus_id']])\n",
    "            pre_score = answer_score\n",
    "        else:\n",
    "            break\n",
    "\n",
    "    output = \"\"\n",
    "    if len(my_answers) > 0 :\n",
    "        for answer in my_answers:\n",
    "          output += answer + \" \"\n",
    "        print(output)\n",
    "    else: print(\"I don't know the answer. please modify your question.\")"
   ]
  },
  {
   "cell_type": "code",
   "execution_count": 30,
   "id": "c4400354-67e2-4348-ade0-c8efc2c6cc2a",
   "metadata": {},
   "outputs": [],
   "source": [
    "def question_answering_api(question):\n",
    "    question = [question]\n",
    "    return answer_to_question(question)"
   ]
  },
  {
   "cell_type": "code",
   "execution_count": 22,
   "id": "474ad7fe-258b-4755-a2a8-2cbc2792fdaa",
   "metadata": {},
   "outputs": [],
   "source": []
  },
  {
   "cell_type": "code",
   "execution_count": null,
   "id": "956a3039-2dfe-4767-be96-b4b62f17ca8b",
   "metadata": {},
   "outputs": [],
   "source": []
  }
 ],
 "metadata": {
  "kernelspec": {
   "display_name": "Python 3 (ipykernel)",
   "language": "python",
   "name": "python3"
  },
  "language_info": {
   "codemirror_mode": {
    "name": "ipython",
    "version": 3
   },
   "file_extension": ".py",
   "mimetype": "text/x-python",
   "name": "python",
   "nbconvert_exporter": "python",
   "pygments_lexer": "ipython3",
   "version": "3.11.5"
  }
 },
 "nbformat": 4,
 "nbformat_minor": 5
}
